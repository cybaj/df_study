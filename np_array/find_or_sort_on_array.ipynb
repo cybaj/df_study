{
 "cells": [
  {
   "cell_type": "code",
   "execution_count": 1,
   "metadata": {},
   "outputs": [],
   "source": [
    "import numpy as np"
   ]
  },
  {
   "cell_type": "markdown",
   "metadata": {},
   "source": [
    "## searchsorted"
   ]
  },
  {
   "cell_type": "markdown",
   "metadata": {},
   "source": [
    "[설명](https://wikidocs.net/14597)\n",
    "- 이미 정렬되어 있는 배열을 대상으로 탐색할 때는 이진탐색(binary search)를 사용하면 계산효율을 대폭 높일 수 있다. \n",
    "- Numpy는 `np.searchsorted(array,value,side='left')`를 통해 이진탐색을 수행할 수 있다. \n",
    "- side 인자로는 'left'와 'right'가 가능하다. `side='left'`는 `array[i-1] < value <= array[i]`이고, `side='right'`는 `array[i-1] <= value < array[i]`이다. \n",
    "- 영역을 벗어나는 경우도 있기 때문에 다음 그림을 참조하는 것이 이해하기 쉽다.\n",
    "\n"
   ]
  },
  {
   "cell_type": "markdown",
   "metadata": {},
   "source": [
    "![searchsorted](https://wikidocs.net/images/page/14597/11.png)"
   ]
  },
  {
   "cell_type": "markdown",
   "metadata": {},
   "source": [
    "### `3` 은 2번째에서 발견된다."
   ]
  },
  {
   "cell_type": "code",
   "execution_count": 2,
   "metadata": {},
   "outputs": [
    {
     "data": {
      "text/plain": [
       "2"
      ]
     },
     "execution_count": 2,
     "metadata": {},
     "output_type": "execute_result"
    }
   ],
   "source": [
    "np.searchsorted([1,2,3,4,5], 3)"
   ]
  },
  {
   "cell_type": "markdown",
   "metadata": {},
   "source": [
    "### `5` 를 찾을 때, `side='left'` 로 찾든 `side='right'` 로 찾든 1번에서 발견된다."
   ]
  },
  {
   "cell_type": "code",
   "execution_count": 7,
   "metadata": {},
   "outputs": [
    {
     "name": "stdout",
     "output_type": "stream",
     "text": [
      "[ 0. 13. 26. 30.]\n",
      "-1 : 0 , 0\n",
      "0 : 0 , 1\n",
      "5 : 1 , 1\n",
      "13 : 1 , 2\n",
      "15 : 2 , 2\n",
      "30 : 3 , 4\n",
      "35 : 4 , 4\n"
     ]
    }
   ],
   "source": [
    "x = np.array([0.,13.,26.,30.])\n",
    "\n",
    "print(x)\n",
    "print(-1,':',np.searchsorted(x,-1.),',',np.searchsorted(x,-1.,side='right'))\n",
    "print( 0,':',np.searchsorted(x, 0.),',',np.searchsorted(x, 0.,side='right'))\n",
    "print( 5,':',np.searchsorted(x, 5.),',',np.searchsorted(x, 5.,side='right'))\n",
    "print(13,':',np.searchsorted(x,13.),',',np.searchsorted(x,13.,side='right'))\n",
    "print(15,':',np.searchsorted(x,15.),',',np.searchsorted(x,15.,side='right'))\n",
    "print(30,':',np.searchsorted(x,30.),',',np.searchsorted(x,30.,side='right'))\n",
    "print(35,':',np.searchsorted(x,35.),',',np.searchsorted(x,35.,side='right'))"
   ]
  },
  {
   "cell_type": "markdown",
   "metadata": {},
   "source": [
    "## amin"
   ]
  },
  {
   "cell_type": "code",
   "execution_count": 3,
   "metadata": {},
   "outputs": [
    {
     "data": {
      "text/plain": [
       "2.3"
      ]
     },
     "execution_count": 3,
     "metadata": {},
     "output_type": "execute_result"
    }
   ],
   "source": [
    "x = np.array([9.1,8.2,2.3,3,3,7.6,5.2])\n",
    "\n",
    "np.amin(x)"
   ]
  },
  {
   "cell_type": "markdown",
   "metadata": {},
   "source": [
    "## argmin"
   ]
  },
  {
   "cell_type": "code",
   "execution_count": 4,
   "metadata": {},
   "outputs": [
    {
     "data": {
      "text/plain": [
       "2"
      ]
     },
     "execution_count": 4,
     "metadata": {},
     "output_type": "execute_result"
    }
   ],
   "source": [
    "x = np.array([9.1,8.2,2.3,3,3,7.6,5.2])\n",
    "\n",
    "np.argmin(x)"
   ]
  },
  {
   "cell_type": "markdown",
   "metadata": {},
   "source": [
    "## sort"
   ]
  },
  {
   "cell_type": "code",
   "execution_count": 5,
   "metadata": {},
   "outputs": [
    {
     "data": {
      "text/plain": [
       "array([2.3, 3. , 3. , 5.2, 7.6, 8.2, 9.1])"
      ]
     },
     "execution_count": 5,
     "metadata": {},
     "output_type": "execute_result"
    }
   ],
   "source": [
    "x = np.array([9.1,8.2,2.3,3,3,7.6,5.2])\n",
    "\n",
    "np.sort(x)"
   ]
  },
  {
   "cell_type": "markdown",
   "metadata": {},
   "source": [
    "## argsort"
   ]
  },
  {
   "cell_type": "code",
   "execution_count": 6,
   "metadata": {},
   "outputs": [
    {
     "data": {
      "text/plain": [
       "array([2, 3, 4, 6, 5, 1, 0])"
      ]
     },
     "execution_count": 6,
     "metadata": {},
     "output_type": "execute_result"
    }
   ],
   "source": [
    "x = np.array([9.1,8.2,2.3,3,3,7.6,5.2])\n",
    "\n",
    "np.argsort(x)"
   ]
  },
  {
   "cell_type": "code",
   "execution_count": null,
   "metadata": {},
   "outputs": [],
   "source": []
  }
 ],
 "metadata": {
  "kernelspec": {
   "display_name": "Python 3",
   "language": "python",
   "name": "python3"
  },
  "language_info": {
   "codemirror_mode": {
    "name": "ipython",
    "version": 3
   },
   "file_extension": ".py",
   "mimetype": "text/x-python",
   "name": "python",
   "nbconvert_exporter": "python",
   "pygments_lexer": "ipython3",
   "version": "3.7.6"
  }
 },
 "nbformat": 4,
 "nbformat_minor": 4
}
