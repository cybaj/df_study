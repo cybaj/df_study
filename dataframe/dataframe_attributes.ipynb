{
 "cells": [
  {
   "cell_type": "markdown",
   "metadata": {},
   "source": [
    "https://pandas.pydata.org/pandas-docs/stable/reference/frame.html"
   ]
  },
  {
   "cell_type": "code",
   "execution_count": 1,
   "metadata": {},
   "outputs": [],
   "source": [
    "import pandas as pd"
   ]
  },
  {
   "cell_type": "code",
   "execution_count": 3,
   "metadata": {},
   "outputs": [],
   "source": [
    "df = pd.read_csv('/root/work/data/faces/face_landmarks.csv')"
   ]
  },
  {
   "cell_type": "markdown",
   "metadata": {},
   "source": [
    "### Attributes and underlying data"
   ]
  },
  {
   "cell_type": "markdown",
   "metadata": {},
   "source": [
    "#### row labels"
   ]
  },
  {
   "cell_type": "code",
   "execution_count": 6,
   "metadata": {},
   "outputs": [
    {
     "data": {
      "text/plain": [
       "RangeIndex(start=0, stop=69, step=1)"
      ]
     },
     "execution_count": 6,
     "metadata": {},
     "output_type": "execute_result"
    }
   ],
   "source": [
    "df.index"
   ]
  },
  {
   "cell_type": "markdown",
   "metadata": {},
   "source": [
    "#### column labels"
   ]
  },
  {
   "cell_type": "code",
   "execution_count": 5,
   "metadata": {},
   "outputs": [
    {
     "data": {
      "text/plain": [
       "Index(['image_name', 'part_0_x', 'part_0_y', 'part_1_x', 'part_1_y',\n",
       "       'part_2_x', 'part_2_y', 'part_3_x', 'part_3_y', 'part_4_x',\n",
       "       ...\n",
       "       'part_63_x', 'part_63_y', 'part_64_x', 'part_64_y', 'part_65_x',\n",
       "       'part_65_y', 'part_66_x', 'part_66_y', 'part_67_x', 'part_67_y'],\n",
       "      dtype='object', length=137)"
      ]
     },
     "execution_count": 5,
     "metadata": {},
     "output_type": "execute_result"
    }
   ],
   "source": [
    "df.columns"
   ]
  },
  {
   "cell_type": "markdown",
   "metadata": {},
   "source": [
    "#### data types"
   ]
  },
  {
   "cell_type": "code",
   "execution_count": 7,
   "metadata": {
    "scrolled": true
   },
   "outputs": [
    {
     "data": {
      "text/plain": [
       "image_name    object\n",
       "part_0_x       int64\n",
       "part_0_y       int64\n",
       "part_1_x       int64\n",
       "part_1_y       int64\n",
       "part_2_x       int64\n",
       "part_2_y       int64\n",
       "part_3_x       int64\n",
       "part_3_y       int64\n",
       "part_4_x       int64\n",
       "part_4_y       int64\n",
       "part_5_x       int64\n",
       "part_5_y       int64\n",
       "part_6_x       int64\n",
       "part_6_y       int64\n",
       "part_7_x       int64\n",
       "part_7_y       int64\n",
       "part_8_x       int64\n",
       "part_8_y       int64\n",
       "part_9_x       int64\n",
       "part_9_y       int64\n",
       "part_10_x      int64\n",
       "part_10_y      int64\n",
       "part_11_x      int64\n",
       "part_11_y      int64\n",
       "part_12_x      int64\n",
       "part_12_y      int64\n",
       "part_13_x      int64\n",
       "part_13_y      int64\n",
       "part_14_x      int64\n",
       "               ...  \n",
       "part_53_x      int64\n",
       "part_53_y      int64\n",
       "part_54_x      int64\n",
       "part_54_y      int64\n",
       "part_55_x      int64\n",
       "part_55_y      int64\n",
       "part_56_x      int64\n",
       "part_56_y      int64\n",
       "part_57_x      int64\n",
       "part_57_y      int64\n",
       "part_58_x      int64\n",
       "part_58_y      int64\n",
       "part_59_x      int64\n",
       "part_59_y      int64\n",
       "part_60_x      int64\n",
       "part_60_y      int64\n",
       "part_61_x      int64\n",
       "part_61_y      int64\n",
       "part_62_x      int64\n",
       "part_62_y      int64\n",
       "part_63_x      int64\n",
       "part_63_y      int64\n",
       "part_64_x      int64\n",
       "part_64_y      int64\n",
       "part_65_x      int64\n",
       "part_65_y      int64\n",
       "part_66_x      int64\n",
       "part_66_y      int64\n",
       "part_67_x      int64\n",
       "part_67_y      int64\n",
       "Length: 137, dtype: object"
      ]
     },
     "execution_count": 7,
     "metadata": {},
     "output_type": "execute_result"
    }
   ],
   "source": [
    "df.dtypes"
   ]
  },
  {
   "cell_type": "markdown",
   "metadata": {},
   "source": [
    "#### values : to_numpy"
   ]
  },
  {
   "cell_type": "code",
   "execution_count": 8,
   "metadata": {},
   "outputs": [
    {
     "data": {
      "text/plain": [
       "array([['0805personali01.jpg', 27, 83, ..., 135, 84, 134],\n",
       "       ['1084239450_e76e00b7e7.jpg', 70, 236, ..., 314, 128, 312],\n",
       "       ['10comm-decarlo.jpg', 66, 114, ..., 165, 116, 164],\n",
       "       ...,\n",
       "       ['person.jpg', 78, 83, ..., 122, 109, 121],\n",
       "       ['person_TjahjonoDGondhowiardjo.jpg', 41, 92, ..., 128, 77, 128],\n",
       "       ['personalpic.jpg', 40, 109, ..., 165, 68, 164]], dtype=object)"
      ]
     },
     "execution_count": 8,
     "metadata": {},
     "output_type": "execute_result"
    }
   ],
   "source": [
    "df.values"
   ]
  },
  {
   "cell_type": "markdown",
   "metadata": {},
   "source": [
    "#### axes : index + columns"
   ]
  },
  {
   "cell_type": "code",
   "execution_count": 9,
   "metadata": {},
   "outputs": [
    {
     "data": {
      "text/plain": [
       "[RangeIndex(start=0, stop=69, step=1),\n",
       " Index(['image_name', 'part_0_x', 'part_0_y', 'part_1_x', 'part_1_y',\n",
       "        'part_2_x', 'part_2_y', 'part_3_x', 'part_3_y', 'part_4_x',\n",
       "        ...\n",
       "        'part_63_x', 'part_63_y', 'part_64_x', 'part_64_y', 'part_65_x',\n",
       "        'part_65_y', 'part_66_x', 'part_66_y', 'part_67_x', 'part_67_y'],\n",
       "       dtype='object', length=137)]"
      ]
     },
     "execution_count": 9,
     "metadata": {},
     "output_type": "execute_result"
    }
   ],
   "source": [
    "df.axes"
   ]
  },
  {
   "cell_type": "markdown",
   "metadata": {},
   "source": [
    "#### number of dimensions"
   ]
  },
  {
   "cell_type": "code",
   "execution_count": 10,
   "metadata": {},
   "outputs": [
    {
     "data": {
      "text/plain": [
       "2"
      ]
     },
     "execution_count": 10,
     "metadata": {},
     "output_type": "execute_result"
    }
   ],
   "source": [
    "df.ndim"
   ]
  },
  {
   "cell_type": "markdown",
   "metadata": {},
   "source": [
    "#### number of elements"
   ]
  },
  {
   "cell_type": "code",
   "execution_count": 11,
   "metadata": {},
   "outputs": [
    {
     "data": {
      "text/plain": [
       "9453"
      ]
     },
     "execution_count": 11,
     "metadata": {},
     "output_type": "execute_result"
    }
   ],
   "source": [
    "df.size"
   ]
  },
  {
   "cell_type": "code",
   "execution_count": 14,
   "metadata": {
    "scrolled": true
   },
   "outputs": [
    {
     "data": {
      "text/plain": [
       "Index          80\n",
       "image_name    552\n",
       "part_0_x      552\n",
       "part_0_y      552\n",
       "part_1_x      552\n",
       "part_1_y      552\n",
       "part_2_x      552\n",
       "part_2_y      552\n",
       "part_3_x      552\n",
       "part_3_y      552\n",
       "part_4_x      552\n",
       "part_4_y      552\n",
       "part_5_x      552\n",
       "part_5_y      552\n",
       "part_6_x      552\n",
       "part_6_y      552\n",
       "part_7_x      552\n",
       "part_7_y      552\n",
       "part_8_x      552\n",
       "part_8_y      552\n",
       "part_9_x      552\n",
       "part_9_y      552\n",
       "part_10_x     552\n",
       "part_10_y     552\n",
       "part_11_x     552\n",
       "part_11_y     552\n",
       "part_12_x     552\n",
       "part_12_y     552\n",
       "part_13_x     552\n",
       "part_13_y     552\n",
       "             ... \n",
       "part_53_x     552\n",
       "part_53_y     552\n",
       "part_54_x     552\n",
       "part_54_y     552\n",
       "part_55_x     552\n",
       "part_55_y     552\n",
       "part_56_x     552\n",
       "part_56_y     552\n",
       "part_57_x     552\n",
       "part_57_y     552\n",
       "part_58_x     552\n",
       "part_58_y     552\n",
       "part_59_x     552\n",
       "part_59_y     552\n",
       "part_60_x     552\n",
       "part_60_y     552\n",
       "part_61_x     552\n",
       "part_61_y     552\n",
       "part_62_x     552\n",
       "part_62_y     552\n",
       "part_63_x     552\n",
       "part_63_y     552\n",
       "part_64_x     552\n",
       "part_64_y     552\n",
       "part_65_x     552\n",
       "part_65_y     552\n",
       "part_66_x     552\n",
       "part_66_y     552\n",
       "part_67_x     552\n",
       "part_67_y     552\n",
       "Length: 138, dtype: int64"
      ]
     },
     "execution_count": 14,
     "metadata": {},
     "output_type": "execute_result"
    }
   ],
   "source": [
    "df.memory_usage()"
   ]
  },
  {
   "cell_type": "code",
   "execution_count": null,
   "metadata": {},
   "outputs": [],
   "source": []
  }
 ],
 "metadata": {
  "kernelspec": {
   "display_name": "Python 3",
   "language": "python",
   "name": "python3"
  },
  "language_info": {
   "codemirror_mode": {
    "name": "ipython",
    "version": 3
   },
   "file_extension": ".py",
   "mimetype": "text/x-python",
   "name": "python",
   "nbconvert_exporter": "python",
   "pygments_lexer": "ipython3",
   "version": "3.7.6"
  }
 },
 "nbformat": 4,
 "nbformat_minor": 2
}
